{
 "cells": [
  {
   "cell_type": "markdown",
   "id": "f2131b15",
   "metadata": {},
   "source": [
    "Creating a SQL DB for customers in Sql lite"
   ]
  },
  {
   "cell_type": "code",
   "execution_count": 1,
   "id": "b4914c00",
   "metadata": {},
   "outputs": [],
   "source": [
    "import pandas as pd\n",
    "import sqlite3"
   ]
  },
  {
   "cell_type": "code",
   "execution_count": 10,
   "id": "fb405fde",
   "metadata": {},
   "outputs": [],
   "source": [
    "#Libraries\n",
    "from dotenv import load_dotenv\n",
    "import os\n",
    "\n",
    "#Loading Environment Vars\n",
    "load_dotenv()\n",
    "\n",
    "os.environ[\"GROQ_API_KEY\"] = os.getenv(\"GROQ_API_KEY\")\n",
    "os.environ[\"LANGCHAIN_API_KEY\"] = os.getenv(\"LANGCHAIN_API_KEY\")\n",
    "os.environ[\"LANGCHAIN_PROJECT\"] = \"ConversationalAIBot\"\n",
    "os.environ[\"LANGCHAIN_TRACING_V2\"] = \"true\"\n",
    "os.environ[\"HUGGINGFACE_API_KEY\"] = os.getenv(\"HUGGINGFACE_API_KEY\")"
   ]
  },
  {
   "cell_type": "code",
   "execution_count": 11,
   "id": "bbc825bd",
   "metadata": {},
   "outputs": [
    {
     "data": {
      "text/html": [
       "<div>\n",
       "<style scoped>\n",
       "    .dataframe tbody tr th:only-of-type {\n",
       "        vertical-align: middle;\n",
       "    }\n",
       "\n",
       "    .dataframe tbody tr th {\n",
       "        vertical-align: top;\n",
       "    }\n",
       "\n",
       "    .dataframe thead th {\n",
       "        text-align: right;\n",
       "    }\n",
       "</style>\n",
       "<table border=\"1\" class=\"dataframe\">\n",
       "  <thead>\n",
       "    <tr style=\"text-align: right;\">\n",
       "      <th></th>\n",
       "      <th>Customer ID</th>\n",
       "      <th>Customer Name</th>\n",
       "      <th>Age</th>\n",
       "      <th>Gender</th>\n",
       "      <th>Location</th>\n",
       "      <th>Plan Subscribed</th>\n",
       "      <th>Device Used</th>\n",
       "      <th>Plan Details</th>\n",
       "      <th>Network Type</th>\n",
       "      <th>Join Date</th>\n",
       "      <th>Recent Issue Reported</th>\n",
       "      <th>Response Provided</th>\n",
       "    </tr>\n",
       "  </thead>\n",
       "  <tbody>\n",
       "    <tr>\n",
       "      <th>0</th>\n",
       "      <td>CUST1000</td>\n",
       "      <td>Ricky Ward</td>\n",
       "      <td>44</td>\n",
       "      <td>Non-Binary</td>\n",
       "      <td>Sethhaven</td>\n",
       "      <td>Basic Plan</td>\n",
       "      <td>Samsung Galaxy S22</td>\n",
       "      <td>Costs $20to$30/month, includes 5 GB high-spee...</td>\n",
       "      <td>LTE</td>\n",
       "      <td>21-02-2025</td>\n",
       "      <td>Slow internet speed</td>\n",
       "      <td>We are sorry. We will ship a new one.</td>\n",
       "    </tr>\n",
       "    <tr>\n",
       "      <th>1</th>\n",
       "      <td>CUST1001</td>\n",
       "      <td>Mallory Graham</td>\n",
       "      <td>18</td>\n",
       "      <td>Female</td>\n",
       "      <td>West Garymouth</td>\n",
       "      <td>Unlimited Plan</td>\n",
       "      <td>Samsung Galaxy S22</td>\n",
       "      <td>Costs $30to$50/month, truly unlimited data (F...</td>\n",
       "      <td>LTE</td>\n",
       "      <td>26-09-2024</td>\n",
       "      <td>Forgot password</td>\n",
       "      <td>We're expanding network towers to improve cove...</td>\n",
       "    </tr>\n",
       "    <tr>\n",
       "      <th>2</th>\n",
       "      <td>CUST1002</td>\n",
       "      <td>Travis Howe</td>\n",
       "      <td>25</td>\n",
       "      <td>Male</td>\n",
       "      <td>Kimberlyton</td>\n",
       "      <td>Family Plan</td>\n",
       "      <td>iPhone 14</td>\n",
       "      <td>Costs $60to$100/month (3to5 lines), shared 5...</td>\n",
       "      <td>LTE</td>\n",
       "      <td>13-02-2024</td>\n",
       "      <td>Cannot make international calls</td>\n",
       "      <td>We have escalated the voicemail issue to our t...</td>\n",
       "    </tr>\n",
       "  </tbody>\n",
       "</table>\n",
       "</div>"
      ],
      "text/plain": [
       "  Customer ID   Customer Name  Age      Gender        Location  \\\n",
       "0    CUST1000      Ricky Ward   44  Non-Binary       Sethhaven   \n",
       "1    CUST1001  Mallory Graham   18      Female  West Garymouth   \n",
       "2    CUST1002     Travis Howe   25        Male     Kimberlyton   \n",
       "\n",
       "  Plan Subscribed         Device Used  \\\n",
       "0      Basic Plan  Samsung Galaxy S22   \n",
       "1  Unlimited Plan  Samsung Galaxy S22   \n",
       "2     Family Plan           iPhone 14   \n",
       "\n",
       "                                        Plan Details Network Type   Join Date  \\\n",
       "0  Costs $20to$30/month, includes 5 GB high-spee...          LTE  21-02-2025   \n",
       "1  Costs $30to$50/month, truly unlimited data (F...          LTE  26-09-2024   \n",
       "2  Costs $60to$100/month (3to5 lines), shared 5...          LTE  13-02-2024   \n",
       "\n",
       "             Recent Issue Reported  \\\n",
       "0              Slow internet speed   \n",
       "1                  Forgot password   \n",
       "2  Cannot make international calls   \n",
       "\n",
       "                                   Response Provided  \n",
       "0              We are sorry. We will ship a new one.  \n",
       "1  We're expanding network towers to improve cove...  \n",
       "2  We have escalated the voicemail issue to our t...  "
      ]
     },
     "execution_count": 11,
     "metadata": {},
     "output_type": "execute_result"
    }
   ],
   "source": [
    "df = pd.read_csv(\"telecom_customer_table.csv\", encoding=\"ISO-8859-1\")\n",
    "\n",
    "df.head(3)"
   ]
  },
  {
   "cell_type": "code",
   "execution_count": 12,
   "id": "2551f1d6",
   "metadata": {},
   "outputs": [
    {
     "data": {
      "text/plain": [
       "100"
      ]
     },
     "execution_count": 12,
     "metadata": {},
     "output_type": "execute_result"
    }
   ],
   "source": [
    "#Sample 100 rows is used here and pretty much the columns are self expalanatory\n",
    "connection = sqlite3.connect(\"telecom_customer.db\")\n",
    "df.to_sql(\"customers\", connection, if_exists=\"replace\", index=False)"
   ]
  },
  {
   "cell_type": "code",
   "execution_count": 13,
   "id": "f40bbe07",
   "metadata": {},
   "outputs": [],
   "source": [
    "connection.close()"
   ]
  },
  {
   "cell_type": "code",
   "execution_count": 14,
   "id": "0bbb7b8b",
   "metadata": {},
   "outputs": [],
   "source": [
    "from langchain_community.utilities import SQLDatabase\n",
    "\n",
    "db = SQLDatabase.from_uri(\"sqlite:///telecom_customer.db\")"
   ]
  },
  {
   "cell_type": "markdown",
   "id": "7c52890c",
   "metadata": {},
   "source": [
    "Using Langchain SQL agent"
   ]
  },
  {
   "cell_type": "code",
   "execution_count": 16,
   "id": "0e97c9fa",
   "metadata": {},
   "outputs": [],
   "source": [
    "from langchain_groq import ChatGroq\n",
    "from langchain.agents.agent_toolkits import SQLDatabaseToolkit\n",
    "from langchain.agents import initialize_agent, AgentType\n",
    "from langchain_core.prompts import PromptTemplate\n",
    "\n",
    "model = ChatGroq(\n",
    "    temperature = 0.2,\n",
    "    model_name = \"llama-3.3-70b-versatile\",\n",
    ")"
   ]
  },
  {
   "cell_type": "code",
   "execution_count": 17,
   "id": "34342d8a",
   "metadata": {},
   "outputs": [],
   "source": [
    "SQL_toolkit = SQLDatabaseToolkit(db=db, llm=model)"
   ]
  },
  {
   "cell_type": "code",
   "execution_count": 18,
   "id": "7dcb202e",
   "metadata": {},
   "outputs": [
    {
     "name": "stderr",
     "output_type": "stream",
     "text": [
      "C:\\Users\\bharath.sr.lv\\AppData\\Local\\Temp\\ipykernel_35340\\3930081775.py:1: LangChainDeprecationWarning: LangChain agents will continue to be supported, but it is recommended for new use cases to be built with LangGraph. LangGraph offers a more flexible and full-featured framework for building agents, including support for tool-calling, persistence of state, and human-in-the-loop workflows. For details, refer to the `LangGraph documentation <https://langchain-ai.github.io/langgraph/>`_ as well as guides for `Migrating from AgentExecutor <https://python.langchain.com/docs/how_to/migrate_agent/>`_ and LangGraph's `Pre-built ReAct agent <https://langchain-ai.github.io/langgraph/how-tos/create-react-agent/>`_.\n",
      "  sql_agent = initialize_agent(\n"
     ]
    }
   ],
   "source": [
    "sql_agent = initialize_agent(\n",
    "    agent=\"zero-shot-react-description\",\n",
    "    tools=SQL_toolkit.get_tools(),\n",
    "    llm=model,\n",
    "    verbose=True\n",
    ")"
   ]
  },
  {
   "cell_type": "code",
   "execution_count": 19,
   "id": "f29e136f",
   "metadata": {},
   "outputs": [
    {
     "name": "stderr",
     "output_type": "stream",
     "text": [
      "C:\\Users\\bharath.sr.lv\\AppData\\Local\\Temp\\ipykernel_35340\\2590517207.py:4: LangChainDeprecationWarning: The method `Chain.run` was deprecated in langchain 0.1.0 and will be removed in 1.0. Use :meth:`~invoke` instead.\n",
      "  response = sql_agent.run(query)\n"
     ]
    },
    {
     "name": "stdout",
     "output_type": "stream",
     "text": [
      "\n",
      "\n",
      "\u001b[1m> Entering new AgentExecutor chain...\u001b[0m\n",
      "\u001b[32;1m\u001b[1;3mTo find the details of a customer with a specific Customer ID, I first need to know the structure of the tables in the database, particularly the ones related to customers. \n",
      "\n",
      "Action: sql_db_list_tables\n",
      "Action Input: \u001b[0m\n",
      "Observation: \u001b[38;5;200m\u001b[1;3mcustomers\u001b[0m\n",
      "Thought:\u001b[32;1m\u001b[1;3mSince I now know that there is a table named \"customers\", I can use the sql_db_schema tool to get the schema and sample rows of this table.\n",
      "\n",
      "Action: sql_db_schema\n",
      "Action Input: customers\u001b[0m\n",
      "Observation: \u001b[33;1m\u001b[1;3m\n",
      "CREATE TABLE customers (\n",
      "\t\"Customer ID\" TEXT, \n",
      "\t\"Customer Name\" TEXT, \n",
      "\t\"Age\" INTEGER, \n",
      "\t\"Gender\" TEXT, \n",
      "\t\"Location\" TEXT, \n",
      "\t\"Plan Subscribed\" TEXT, \n",
      "\t\"Device Used\" TEXT, \n",
      "\t\"Plan Details\" TEXT, \n",
      "\t\"Network Type\" TEXT, \n",
      "\t\"Join Date\" TEXT, \n",
      "\t\"Recent Issue Reported\" TEXT, \n",
      "\t\"Response Provided\" TEXT\n",
      ")\n",
      "\n",
      "/*\n",
      "3 rows from customers table:\n",
      "Customer ID\tCustomer Name\tAge\tGender\tLocation\tPlan Subscribed\tDevice Used\tPlan Details\tNetwork Type\tJoin Date\tRecent Issue Reported\tResponse Provided\n",
      "CUST1000\tRicky Ward\t44\tNon-Binary\tSethhaven\tBasic Plan\tSamsung Galaxy S22\tCosts $20to$30/month, includes 5 GB high-speed data, unlimited calls, 1000 SMS/month, 128 Kbps afte\tLTE\t21-02-2025\tSlow internet speed\tWe are sorry. We will ship a new one.\n",
      "CUST1001\tMallory Graham\t18\tFemale\tWest Garymouth\tUnlimited Plan\tSamsung Galaxy S22\tCosts $30to$50/month, truly unlimited data (FUP after ~50 GB), unlimited calls & SMS, 1 Mbps after \tLTE\t26-09-2024\tForgot password\tWe're expanding network towers to improve coverage.\n",
      "CUST1002\tTravis Howe\t25\tMale\tKimberlyton\tFamily Plan\tiPhone 14\tCosts $60to$100/month (3to5 lines), shared 50to100 GB data, unlimited calls & SMS for all lines, \tLTE\t13-02-2024\tCannot make international calls\tWe have escalated the voicemail issue to our tech team.\n",
      "*/\u001b[0m\n",
      "Thought:\u001b[32;1m\u001b[1;3mNow that I have the schema of the \"customers\" table, I can see that it contains all the relevant information about each customer, including their Customer ID, Customer Name, Age, Gender, Location, and more. To find the details of the customer with Customer ID CUST1001, I can use the sql_db_query tool with a SELECT statement that filters the results to only include the row where \"Customer ID\" is CUST1001.\n",
      "\n",
      "Action: sql_db_query_checker\n",
      "Action Input: SELECT * FROM customers WHERE \"Customer ID\" = 'CUST1001'\u001b[0m\n",
      "Observation: \u001b[36;1m\u001b[1;3mSELECT * FROM customers WHERE \"Customer ID\" = 'CUST1001'\u001b[0m\n",
      "Thought:\u001b[32;1m\u001b[1;3mThe query looks correct, so I can proceed to execute it.\n",
      "\n",
      "Action: sql_db_query\n",
      "Action Input: SELECT * FROM customers WHERE \"Customer ID\" = 'CUST1001'\u001b[0m\n",
      "Observation: \u001b[36;1m\u001b[1;3m[('CUST1001', 'Mallory Graham', 18, 'Female', 'West Garymouth', 'Unlimited Plan', 'Samsung Galaxy S22', 'Costs $30to\\x93$50/month, truly unlimited data (FUP after ~50 GB), unlimited calls & SMS, 1 Mbps after FUP, includes 5G, cloud storage, and hotspot data.', 'LTE', '26-09-2024', 'Forgot password', \"We're expanding network towers to improve coverage.\")]\u001b[0m\n",
      "Thought:\u001b[32;1m\u001b[1;3mI now know the final answer\n",
      "\n",
      "Final Answer: The details of the customer with Customer ID CUST1001 are: \n",
      "Customer ID: CUST1001\n",
      "Customer Name: Mallory Graham\n",
      "Age: 18\n",
      "Gender: Female\n",
      "Location: West Garymouth\n",
      "Plan Subscribed: Unlimited Plan\n",
      "Device Used: Samsung Galaxy S22\n",
      "Plan Details: Costs $30to“$50/month, truly unlimited data (FUP after ~50 GB), unlimited calls & SMS, 1 Mbps after FUP, includes 5G, cloud storage, and hotspot data.\n",
      "Network Type: LTE\n",
      "Join Date: 26-09-2024\n",
      "Recent Issue Reported: Forgot password\n",
      "Response Provided: We're expanding network towers to improve coverage.\u001b[0m\n",
      "\n",
      "\u001b[1m> Finished chain.\u001b[0m\n",
      "The details of the customer with Customer ID CUST1001 are: \n",
      "Customer ID: CUST1001\n",
      "Customer Name: Mallory Graham\n",
      "Age: 18\n",
      "Gender: Female\n",
      "Location: West Garymouth\n",
      "Plan Subscribed: Unlimited Plan\n",
      "Device Used: Samsung Galaxy S22\n",
      "Plan Details: Costs $30to“$50/month, truly unlimited data (FUP after ~50 GB), unlimited calls & SMS, 1 Mbps after FUP, includes 5G, cloud storage, and hotspot data.\n",
      "Network Type: LTE\n",
      "Join Date: 26-09-2024\n",
      "Recent Issue Reported: Forgot password\n",
      "Response Provided: We're expanding network towers to improve coverage.\n"
     ]
    }
   ],
   "source": [
    "customer_id = \"CUST1001\"  \n",
    "query = f\"What are the details of customer with Customer ID {customer_id}?\"\n",
    "\n",
    "response = sql_agent.run(query)\n",
    "print(response)"
   ]
  },
  {
   "cell_type": "code",
   "execution_count": null,
   "id": "0db9d2c2",
   "metadata": {},
   "outputs": [],
   "source": []
  }
 ],
 "metadata": {
  "kernelspec": {
   "display_name": "ConversationalAI3.10",
   "language": "python",
   "name": "python3"
  },
  "language_info": {
   "codemirror_mode": {
    "name": "ipython",
    "version": 3
   },
   "file_extension": ".py",
   "mimetype": "text/x-python",
   "name": "python",
   "nbconvert_exporter": "python",
   "pygments_lexer": "ipython3",
   "version": "3.10.11"
  }
 },
 "nbformat": 4,
 "nbformat_minor": 5
}
